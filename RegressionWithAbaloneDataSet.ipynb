{
  "nbformat": 4,
  "nbformat_minor": 0,
  "metadata": {
    "colab": {
      "name": "dai19130_ergasia1.ipynb",
      "provenance": [],
      "collapsed_sections": []
    },
    "kernelspec": {
      "name": "python3",
      "display_name": "Python 3"
    },
    "language_info": {
      "name": "python"
    }
  },
  "cells": [
    {
      "cell_type": "markdown",
      "source": [
        "### Άνοιγμα αρχείου και προεργασία"
      ],
      "metadata": {
        "id": "b1z36I38EaKM"
      }
    },
    {
      "cell_type": "code",
      "metadata": {
        "id": "qWtkhCGbA0ol",
        "colab": {
          "base_uri": "https://localhost:8080/",
          "height": 215
        },
        "outputId": "e2e69ba9-257e-44fb-9a4c-ce9d147c42e7"
      },
      "source": [
        "import numpy as np\n",
        "import csv\n",
        "from IPython.display import display, Markdown\n",
        "from sklearn.preprocessing import StandardScaler\n",
        "\n",
        "\n",
        "results = []\n",
        "with open(\"abalone.data\") as myfile:\n",
        "  data = csv.reader(myfile, delimiter=',')\n",
        "  for dataline in data:\n",
        "    results.append(dataline)\n",
        "\n",
        "\n",
        "\n",
        "for element in results:\n",
        "  element.pop(0)\n",
        "y = []\n",
        "for element in results:\n",
        "  target = element.pop(7)\n",
        "  y.append(target)\n",
        "\n",
        "XArray = np.array(results)\n",
        "yArray = np.array(y)\n",
        "\n",
        "XArray = XArray.astype(float)\n",
        "yArray = yArray.astype(int)\n",
        "\n",
        "# print(15*\"==========\")\n",
        "# print(XArray)\n",
        "# print(15*\"==========\")\n",
        "# print(yArray)\n",
        "\n",
        "display(Markdown(\n",
        "    \"**Number of objects**: \" + str(len(XArray)) + \"<br>\" +\n",
        "    \"**Number of variables**: \" + str(len(XArray[0]))  + \"<br>\" +\n",
        "    \"**Range of y**: \" + str(np.min(yArray)) + \"-\" + str(np.max(yArray)) + \"<br>\" +\n",
        "    \"**Test data mean**: \" + str(np.mean(XArray,0)) + \"<br>\" +\n",
        "    \"**Test data std**: \" + str(np.std(XArray,0))\n",
        "))\n",
        "\n",
        "\n",
        "from sklearn.model_selection import train_test_split\n",
        "X_train,X_test,y_train,y_test = train_test_split(XArray,yArray,test_size = 0.3, random_state=5)\n",
        "\n",
        "print(np.shape(X_train), np.shape(X_test))\n",
        "\n",
        "\n",
        "# normalize \n",
        "datascaler = StandardScaler().fit(X_train)\n",
        "X_train_normalized = datascaler.transform(X_train)\n",
        "X_test_normalized = datascaler.transform(X_test)\n",
        "\n",
        "display(Markdown(\n",
        "    \"**Normalized Training data mean**: \" + str(np.mean(X_train_normalized,0)) + \"<br>\" +\n",
        "    \"**Normalized Training data std**: \" + str(np.std(X_train_normalized,0))  + \"<br>\" +\n",
        "    \"**Normalized Test data mean**: \" + str(np.mean(X_test_normalized,0)) + \"<br>\" +\n",
        "    \"**Normalized Test data std**: \" + str(np.std(X_test_normalized,0))\n",
        "))\n"
      ],
      "execution_count": null,
      "outputs": [
        {
          "output_type": "display_data",
          "data": {
            "text/markdown": "**Number of objects**: 4177<br>**Number of variables**: 7<br>**Range of y**: 1-29<br>**Test data mean**: [0.5239921  0.40788125 0.1395164  0.82874216 0.35936749 0.18059361\n 0.23883086]<br>**Test data std**: [0.12007854 0.09922799 0.04182205 0.49033031 0.22193638 0.10960113\n 0.13918601]",
            "text/plain": [
              "<IPython.core.display.Markdown object>"
            ]
          },
          "metadata": {}
        },
        {
          "output_type": "stream",
          "name": "stdout",
          "text": [
            "(2923, 7) (1254, 7)\n"
          ]
        },
        {
          "output_type": "display_data",
          "data": {
            "text/markdown": "**Normalized Training data mean**: [-4.90176949e-15 -8.34942409e-15  1.44026084e-15 -1.66273275e-15\n  6.54492236e-16 -2.23059682e-15  6.34598999e-16]<br>**Normalized Training data std**: [1. 1. 1. 1. 1. 1. 1.]<br>**Normalized Test data mean**: [ 0.00254309  0.01051423 -0.00311952  0.00492772 -0.00922393  0.013566\n  0.0033401 ]<br>**Normalized Test data std**: [0.98836835 0.99495613 0.88021946 0.9881448  0.97133766 1.00922178\n 1.002911  ]",
            "text/plain": [
              "<IPython.core.display.Markdown object>"
            ]
          },
          "metadata": {}
        }
      ]
    },
    {
      "cell_type": "markdown",
      "source": [
        "### Κριτήριο αξιολόγησης αποτελεσμάτων"
      ],
      "metadata": {
        "id": "KynhCWHmER82"
      }
    },
    {
      "cell_type": "code",
      "source": [
        "#Μ.Ζ.: Αντί για δύο διαδοχικά loops, θα μπορούσατε να κάνετε np.count_nonzeros(np.less_equal(np.abs(pred-y),N)). Στην python το loop επί των δεδομένων αντενδείκνυται. Δεν αφαιρέθηκαν βαθμοί.\n",
        "def success_rate(y_test_pred,y_test,N):\n",
        "  \n",
        "\n",
        "  pred_minus_test = []\n",
        "  for i in range (len(y_test)):\n",
        "    pred_minus_test.append(np.absolute(y_test_pred[i] - y_test[i]))\n",
        "\n",
        "\n",
        "  successes = 0\n",
        "  for value in np.less_equal(pred_minus_test,N):\n",
        "    if value == True:\n",
        "      successes += 1\n",
        "\n",
        "  success = (successes * 100) / len(y_test_pred)\n",
        "\n",
        "  return success"
      ],
      "metadata": {
        "id": "786R1bFQOYxc"
      },
      "execution_count": null,
      "outputs": []
    },
    {
      "cell_type": "markdown",
      "source": [
        "### Γραμμικά μοντέλα"
      ],
      "metadata": {
        "id": "3fQYHlQWD8F7"
      }
    },
    {
      "cell_type": "code",
      "source": [
        "from sklearn import linear_model\n",
        "from sklearn.metrics import explained_variance_score\n",
        "from sklearn.metrics import mean_squared_error, r2_score\n",
        "\n",
        "# Create linear regression object\n",
        "regr = linear_model.LinearRegression()\n",
        "\n",
        "# Train the model using the training sets\n",
        "regr.fit(X_train, y_train)\n",
        "y_pred = regr.predict(X_test)\n",
        "\n",
        "display(Markdown(\n",
        "    \"**Mean squared error**: \" + str(mean_squared_error(y_test, y_pred))  + \"<br>\" +\n",
        "    \"**Explained Variance**: \" + str(explained_variance_score(y_test, y_pred)) + \"<br>\" +\n",
        "    \"**Success_rate**: \" + str(success_rate(y_pred, y_test, 1))\n",
        "))\n",
        "\n",
        "#Train the model using the normalized training sets\n",
        "regr_normalized = linear_model.LinearRegression()\n",
        "\n",
        "regr_normalized.fit(X_train_normalized, y_train)\n",
        "y_pred_normalized = regr_normalized.predict(X_test_normalized)\n",
        "\n",
        "display(Markdown(\n",
        "    \"**Explained Variance with Normalized data**: \" + str(explained_variance_score(y_test, y_pred_normalized)) + \"<br>\" +\n",
        "    \"**Success_rate with Normalized data**: \" + str(success_rate(y_pred_normalized, y_test, 1))\n",
        "))\n",
        "\n",
        "#Συμπέρασμα\n",
        "print(\"Δεν φαίνεται να υπάρχει κάποια σημαντική διαφορά ανάμεσα στα αποτελέσματα που παίρνουμε εκπαιδεύοντας με τα κανονικοποιημένα δεδομένα. \")\n",
        "\n"
      ],
      "metadata": {
        "colab": {
          "base_uri": "https://localhost:8080/",
          "height": 140
        },
        "id": "E0DLvNJXS0I7",
        "outputId": "0f989961-c1cb-4978-e17c-503233ba6a46"
      },
      "execution_count": null,
      "outputs": [
        {
          "output_type": "display_data",
          "data": {
            "text/markdown": "**Mean squared error**: 5.315759509826538<br>**Explained Variance**: 0.4849327826979455<br>**Success_rate**: 40.35087719298246",
            "text/plain": [
              "<IPython.core.display.Markdown object>"
            ]
          },
          "metadata": {}
        },
        {
          "output_type": "display_data",
          "data": {
            "text/markdown": "**Explained Variance with Normalized data**: 0.4849327826979454<br>**Success_rate with Normalized data**: 40.35087719298246",
            "text/plain": [
              "<IPython.core.display.Markdown object>"
            ]
          },
          "metadata": {}
        },
        {
          "output_type": "stream",
          "name": "stdout",
          "text": [
            "Δεν φαίνεται να υπάρχει κάποια σημαντική διαφορά ανάμεσα στα αποτελέσματα που παίρνουμε εκπαιδεύοντας με τα κανονικοποιημένα δεδομένα. \n"
          ]
        }
      ]
    },
    {
      "cell_type": "code",
      "source": [
        "from sklearn import linear_model\n",
        "from sklearn.model_selection import GridSearchCV\n",
        "from sklearn.metrics import accuracy_score, f1_score\n",
        "\n",
        "# Ridge regression model with grid search\n",
        "params = { \n",
        "           'alpha': np.logspace(-6, 4, 20) # try 20 values in logarithmic scale from 10^-6 to 10^4\n",
        "         }\n",
        "\n",
        "ridge_regr = linear_model.Ridge()\n",
        "grid = GridSearchCV(estimator=ridge_regr,cv=10,param_grid=params)\n",
        "grid.fit(X_train, y_train) \n",
        "y_train_pred = grid.predict(X_train)\n",
        "y_test_pred = grid.predict(X_test)\n",
        "\n",
        "display(Markdown(\n",
        "    \"**Ridge Regression**: <br>\" +\n",
        "    \"**Best lambda**: {:.3f}\".format(grid.best_params_['alpha'])  + \"<br>\" +\n",
        "    \"**Cross-val explained variance**: {:.2f}\".format(explained_variance_score(y_train, y_train_pred)) + \"<br>\" +\n",
        "    \"**Test set explained variance**: {:.2f}\".format(explained_variance_score(y_test, y_test_pred)) + \"<br>\" +\n",
        "    \"**Explained Variance**: \" + str(explained_variance_score(y_test, y_test_pred)) + \"<br>\" +\n",
        "    \"**Success_rate**: \" + str(success_rate(y_test_pred, y_test, 1)) + \"<br>\" +\n",
        "    \"**Coefficients from all data**: \" + str(regr.coef_)\n",
        "))\n",
        "\n",
        "#Συμπέρασμα\n",
        "print(\"Δεν φαίνεται να υπάρχει κάποια βελτίωση. Επίσης η μεταβλητή Length φαίνεται να αποκλείστηκε ως μη σημαντική \")\n",
        "\n",
        "\n",
        "\n"
      ],
      "metadata": {
        "colab": {
          "base_uri": "https://localhost:8080/",
          "height": 168
        },
        "id": "ZZM0z-hnmBZo",
        "outputId": "90a8ede2-27b6-458b-d382-12188c05f528"
      },
      "execution_count": null,
      "outputs": [
        {
          "output_type": "display_data",
          "data": {
            "text/markdown": "**Ridge Regression**: <br>**Best lambda**: 0.616<br>**Cross-val explained variance**: 0.54<br>**Test set explained variance**: 0.48<br>**Explained Variance**: 0.4812876314141211<br>**Success_rate**: 40.111642743221694<br>**Coefficients from all data**: [ -0.6067254   11.87284066   8.6632592    8.49978707 -19.14894761\n -10.11729792  11.23059286]",
            "text/plain": [
              "<IPython.core.display.Markdown object>"
            ]
          },
          "metadata": {}
        },
        {
          "output_type": "stream",
          "name": "stdout",
          "text": [
            "Δεν φαίνεται να υπάρχει κάποια βελτίωση. Επίσης η μεταβλητή Length φαίνεται να αποκλείστηκε ως μη σημαντική \n"
          ]
        }
      ]
    },
    {
      "cell_type": "markdown",
      "source": [
        "### Μη-γραμμικά μοντέλα"
      ],
      "metadata": {
        "id": "5t3e6mFoDxyQ"
      }
    },
    {
      "cell_type": "code",
      "source": [
        "from sklearn.preprocessing import PolynomialFeatures, StandardScaler\n",
        "\n",
        "#Create a 2nd degree polynomial model upon which to fit the data\n",
        "polyModel = PolynomialFeatures(degree = 2)\n",
        "X_train_poly = polyModel.fit_transform(X_train)\n",
        "X_test_poly = polyModel.fit_transform(X_test)\n",
        "\n",
        "print(\"Training data shape:\", np.shape(X_train_poly))\n",
        "print(\"Test data shape:\", np.shape(X_test_poly))\n",
        "\n",
        "ridge_regr_poly  = linear_model.Ridge() \n",
        "grid = GridSearchCV(estimator=ridge_regr_poly, cv = 10, param_grid=params) \n",
        "grid.fit(X_train_poly, y_train) \n",
        "y_train_pred = grid.predict(X_train_poly)\n",
        "y_test_pred = grid.predict(X_test_poly)\n",
        "\n",
        "display(Markdown(\n",
        "    \"**Ridge Regression**: <br>\" +\n",
        "    \"**Best lambda**: {:.3f}\".format(grid.best_params_['alpha'])  + \"<br>\" +\n",
        "    \"**Cross-val explained variance**: {:.2f}\".format(explained_variance_score(y_train, y_train_pred)) + \"<br>\" +\n",
        "    \"**Test set explained variance**: {:.2f}\".format(explained_variance_score(y_test, y_test_pred)) + \"<br>\" + \n",
        "    \"**Success_rate**: \" + str(success_rate(y_test_pred, y_test, 1))\n",
        "))\n",
        "\n",
        "#Σχόλια\n",
        "print(\"Φαίνεται να υπάρχει σημαντική βελτίωση. \")\n"
      ],
      "metadata": {
        "colab": {
          "base_uri": "https://localhost:8080/",
          "height": 268
        },
        "id": "inT1MrDJ9cFJ",
        "outputId": "3a0d70ac-cd67-4cf0-f6f5-578b2e754048"
      },
      "execution_count": null,
      "outputs": [
        {
          "output_type": "stream",
          "name": "stdout",
          "text": [
            "Training data shape: (2923, 36)\n",
            "Test data shape: (1254, 36)\n"
          ]
        },
        {
          "output_type": "display_data",
          "data": {
            "text/markdown": "**Ridge Regression**: <br>**Best lambda**: 0.183<br>**Cross-val explained variance**: 0.58<br>**Test set explained variance**: 0.53<br>**Success_rate**: 42.66347687400319",
            "text/plain": [
              "<IPython.core.display.Markdown object>"
            ]
          },
          "metadata": {}
        },
        {
          "output_type": "stream",
          "name": "stdout",
          "text": [
            "Φαίνεται να υπάρχει σημαντική βελτίωση. \n"
          ]
        },
        {
          "output_type": "display_data",
          "data": {
            "text/markdown": "**Ridge Regression**: <br>**Best lambda**: 23.357<br>**Cross-val explained variance**: 0.57<br>**Test set explained variance**: 0.51<br>**Success_rate**: 42.18500797448166",
            "text/plain": [
              "<IPython.core.display.Markdown object>"
            ]
          },
          "metadata": {}
        }
      ]
    },
    {
      "cell_type": "code",
      "source": [
        "from sklearn.neighbors import KNeighborsRegressor\n",
        "KN_regr_poly = KNeighborsRegressor()\n",
        "params = { \n",
        "           'n_neighbors': range(1,10),\n",
        "            'weights': ['uniform', 'distance']\n",
        "         }\n",
        "grid = GridSearchCV(estimator=KN_regr_poly, cv = 10, param_grid=params) \n",
        "grid.fit(X_train, y_train) \n",
        "print(grid.best_score_)\n",
        "y_test_pred = grid.predict(X_test)\n",
        "display(Markdown(\n",
        "    \"**k-Nearest Neighbours Regression**: <br>\" +\n",
        "    \"**Best k**: {:.3f}\".format(grid.best_params_['n_neighbors'])  + \"<br>\" +\n",
        "    \"**Best weighting strategy**: \" + grid.best_params_['weights']  + \"<br>\" +\n",
        "    \"**Test set explained variance**: {:.2f}\".format(explained_variance_score(y_test, y_test_pred)) + \"<br>\" + \n",
        "    \"**Success_rate**: \" + str(success_rate(y_test_pred, y_test, 1))\n",
        "))\n",
        "\n",
        "#Σχόλια\n",
        "print(\"Δεν υπάρχει βελτίωση σε σχέση με την προηγούμενη μέθοδο 'Ridge Regression', αλλά υπάρχει σε σχέση με τα Γραμμικά μοντέλα.\")\n",
        "print(\"Το συμπέρασμα που βγάζουμε για τη σχέση μεταξύ των χαρακτηριστικών και του στόχου είναι ότι είναι πολυωνυμική ως 2ου βαθμού.\")"
      ],
      "metadata": {
        "colab": {
          "base_uri": "https://localhost:8080/",
          "height": 169
        },
        "id": "w163aPUTQeuR",
        "outputId": "8d047c29-ae39-4ecf-be3f-b0592d8eb1ca"
      },
      "execution_count": null,
      "outputs": [
        {
          "output_type": "stream",
          "name": "stdout",
          "text": [
            "0.5466731628762506\n"
          ]
        },
        {
          "output_type": "display_data",
          "data": {
            "text/markdown": "**k-Nearest Neighbours Regression**: <br>**Best k**: 9.000<br>**Best weighting strategy**: distance<br>**Test set explained variance**: 0.51<br>**Success_rate**: 46.17224880382775",
            "text/plain": [
              "<IPython.core.display.Markdown object>"
            ]
          },
          "metadata": {}
        },
        {
          "output_type": "stream",
          "name": "stdout",
          "text": [
            "Δεν υπάρχει βελτίωση σε σχέση με την προηγούμενη μέθοδο 'Ridge Regression', αλλά υπάρχει σε σχέση με τα Γραμμικά μοντέλα.\n",
            "Το συμπέρασμα που βγάζουμε για τη σχέση μεταξύ των χαρακτηριστικών και του στόχου είναι ότι είναι πολυωνυμική ως 2ου βαθμού.\n"
          ]
        }
      ]
    }
  ]
}